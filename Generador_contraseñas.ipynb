{
  "nbformat": 4,
  "nbformat_minor": 0,
  "metadata": {
    "colab": {
      "provenance": [],
      "authorship_tag": "ABX9TyMLPIjv3n6/ev6NN5JsJoSX",
      "include_colab_link": true
    },
    "kernelspec": {
      "name": "python3",
      "display_name": "Python 3"
    },
    "language_info": {
      "name": "python"
    }
  },
  "cells": [
    {
      "cell_type": "markdown",
      "metadata": {
        "id": "view-in-github",
        "colab_type": "text"
      },
      "source": [
        "<a href=\"https://colab.research.google.com/github/Escarlet2003/generador-de-contrasenas-/blob/main/Generador_contrase%C3%B1as.ipynb\" target=\"_parent\"><img src=\"https://colab.research.google.com/assets/colab-badge.svg\" alt=\"Open In Colab\"/></a>"
      ]
    },
    {
      "cell_type": "code",
      "execution_count": 2,
      "metadata": {
        "id": "LNg3nwHevY9Q"
      },
      "outputs": [],
      "source": [
        "#generador de contraseñas\n",
        "import re\n",
        "import secrets\n",
        "import string"
      ]
    },
    {
      "cell_type": "code",
      "source": [
        "def generar_contraseña(longitud, nums, caracteres_especiales, mayusculas, minusculas):\n",
        "    # Define los posibles caracteres para la contraseña\n",
        "    letras = string.ascii_letters\n",
        "    digitos = string.digits\n",
        "    simbolos = string.punctuation\n",
        "\n",
        "    # Combina todos los caracteres\n",
        "    todos_los_caracteres = letras + digitos + simbolos\n",
        "\n",
        "    while True:\n",
        "        contraseña = ''\n",
        "        # Genera la contraseña\n",
        "        for _ in range(longitud):\n",
        "            contraseña += secrets.choice(todos_los_caracteres)\n",
        "\n",
        "        restricciones = [\n",
        "            (nums, r'\\d'),\n",
        "            (minusculas, r'[a-z]'),\n",
        "            (mayusculas, r'[A-Z]'),\n",
        "            (caracteres_especiales, fr'[{simbolos}]')\n",
        "        ]\n",
        "\n",
        "        # Verifica las restricciones\n",
        "        count = 0\n",
        "        for restriccion, patron in restricciones:\n",
        "            if restriccion <= len(re.findall(patron, contraseña)):\n",
        "                count += 1\n",
        "\n",
        "        if count == 4:\n",
        "            break\n",
        "\n",
        "    return contraseña\n",
        "\n",
        "nueva_contraseña = generar_contraseña(8, 2, 2, 2, 2)\n",
        "print(nueva_contraseña)\n"
      ],
      "metadata": {
        "id": "buQTEDC-2XQc",
        "colab": {
          "base_uri": "https://localhost:8080/"
        },
        "outputId": "c8469a53-1406-4b88-c6c4-5db59ab0fecf"
      },
      "execution_count": 3,
      "outputs": [
        {
          "output_type": "stream",
          "name": "stdout",
          "text": [
            "l\".HU34k\n"
          ]
        }
      ]
    },
    {
      "cell_type": "code",
      "source": [
        "def main():\n",
        "  print('Bienvenidos al generador automatico de contraseñas en Google Colab y Python\\n')\n",
        "  longitud = input('Digite la longitud de su contraseña: ')\n",
        "  numeros = input('Digite la cantidad de numeros que desea en su contraseña: ')\n",
        "  caracteres_especiales = input('Digite la cantidad de caracteres especiales que desea en su contraseña: ')\n",
        "  mayusculas = input('Digite la cantidad de mayusculas que desea en su contraseña: ')\n",
        "  minuscula = input('Digite la cantidad de minusculas que desea en su contraseña: ')\n",
        "\n",
        "  if longitud.isdigit() and numeros.isdigit() and caracteres_especiales.isdigit() and mayusculas.isdigit() and minuscula.isdigit():\n",
        "    long = int(longitud)\n",
        "    nums = int(numeros)\n",
        "    chars = int(caracteres_especiales)\n",
        "    mayus = int(mayusculas)\n",
        "    minus = int(minuscula)\n",
        "    password = generar_contraseña(long, nums, chars, mayus, minus)\n",
        "    print(f'La nueva contraseña generada es: {password}')\n",
        "  else:\n",
        "    print('Favor de escribir numeros enteros.')\n",
        "    main()"
      ],
      "metadata": {
        "id": "LNGCZfaF2Yuh"
      },
      "execution_count": 4,
      "outputs": []
    },
    {
      "cell_type": "code",
      "source": [
        "main()"
      ],
      "metadata": {
        "colab": {
          "base_uri": "https://localhost:8080/"
        },
        "id": "2LgTPjpELycr",
        "outputId": "038872db-85b9-4784-8485-5b4863912aa9"
      },
      "execution_count": 8,
      "outputs": [
        {
          "output_type": "stream",
          "name": "stdout",
          "text": [
            "Bienvenidos al generador automatico de contraseñas en Google Colab y Python\n",
            "\n",
            "Digite la longitud de su contraseña: 12\n",
            "Digite la cantidad de numeros que desea en su contraseña: 4\n",
            "Digite la cantidad de caracteres especiales que desea en su contraseña: 3\n",
            "Digite la cantidad de mayusculas que desea en su contraseña: 2\n",
            "Digite la cantidad de minusculas que desea en su contraseña: 3\n",
            "La nueva contraseña generada es: 69;4oR?.1sJv\n"
          ]
        }
      ]
    }
  ]
}